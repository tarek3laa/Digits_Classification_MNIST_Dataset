{
  "nbformat": 4,
  "nbformat_minor": 0,
  "metadata": {
    "colab": {
      "name": "project_mnist.ipynb",
      "provenance": [],
      "mount_file_id": "1BRWLJlOTszECL44_UygMmTwlOhzgpzTy",
      "authorship_tag": "ABX9TyNu69wJYwkdb1qPT8y8auJ+",
      "include_colab_link": true
    },
    "kernelspec": {
      "name": "python3",
      "display_name": "Python 3"
    },
    "accelerator": "GPU"
  },
  "cells": [
    {
      "cell_type": "markdown",
      "metadata": {
        "id": "view-in-github",
        "colab_type": "text"
      },
      "source": [
        "<a href=\"https://colab.research.google.com/github/tarek3laa/Digits_Classification_MNIST_Dataset/blob/master/project_mnist.ipynb\" target=\"_parent\"><img src=\"https://colab.research.google.com/assets/colab-badge.svg\" alt=\"Open In Colab\"/></a>"
      ]
    },
    {
      "cell_type": "markdown",
      "metadata": {
        "id": "JwlVBg-vHIBO",
        "colab_type": "text"
      },
      "source": [
        "**import libiares**"
      ]
    },
    {
      "cell_type": "code",
      "metadata": {
        "id": "S4etl4lIGztc",
        "colab_type": "code",
        "colab": {
          "base_uri": "https://localhost:8080/",
          "height": 34
        },
        "outputId": "a6d4df28-9696-41d7-eb68-77bbbc3e36d6"
      },
      "source": [
        "from sklearn.metrics import accuracy_score\n",
        "from matplotlib import pyplot as plt\n",
        "%matplotlib inline\n",
        "from keras.preprocessing.image import ImageDataGenerator\n",
        "import numpy as np\n",
        "import pandas as pd\n",
        "from sklearn.model_selection import train_test_split\n",
        "from keras.utils.np_utils import to_categorical\n",
        "from keras import layers as L, Sequential,optimizers,losses\n",
        "from keras.callbacks import ModelCheckpoint,CSVLogger\n",
        "import os\n"
      ],
      "execution_count": 3,
      "outputs": [
        {
          "output_type": "stream",
          "text": [
            "Using TensorFlow backend.\n"
          ],
          "name": "stderr"
        }
      ]
    },
    {
      "cell_type": "markdown",
      "metadata": {
        "id": "HVaIni66HUs3",
        "colab_type": "text"
      },
      "source": [
        "**Download Data**"
      ]
    },
    {
      "cell_type": "code",
      "metadata": {
        "id": "nNr-350VHTsv",
        "colab_type": "code",
        "colab": {
          "base_uri": "https://localhost:8080/",
          "height": 208
        },
        "outputId": "7bbaed14-190b-41c6-d59a-7ac7ef341f76"
      },
      "source": [
        "!kaggle competitions download -c digit-recognizer"
      ],
      "execution_count": 4,
      "outputs": [
        {
          "output_type": "stream",
          "text": [
            "Warning: Your Kaggle API key is readable by other users on this system! To fix this, you can run 'chmod 600 /root/.kaggle/kaggle.json'\n",
            "Warning: Looks like you're using an outdated API Version, please consider updating (server 1.5.6 / client 1.5.4)\n",
            "Downloading train.csv.zip to /content\n",
            " 55% 5.00M/9.16M [00:00<00:00, 30.9MB/s]\n",
            "100% 9.16M/9.16M [00:00<00:00, 45.0MB/s]\n",
            "Downloading sample_submission.csv to /content\n",
            "  0% 0.00/235k [00:00<?, ?B/s]\n",
            "100% 235k/235k [00:00<00:00, 74.5MB/s]\n",
            "Downloading test.csv.zip to /content\n",
            " 82% 5.00M/6.09M [00:00<00:00, 25.8MB/s]\n",
            "100% 6.09M/6.09M [00:00<00:00, 29.8MB/s]\n"
          ],
          "name": "stdout"
        }
      ]
    },
    {
      "cell_type": "code",
      "metadata": {
        "id": "Oh0XzmbBKzE5",
        "colab_type": "code",
        "colab": {
          "base_uri": "https://localhost:8080/",
          "height": 86
        },
        "outputId": "8a6d1599-7eee-4ca9-b1a1-ad1d99b0b3ab"
      },
      "source": [
        "!unzip /content/test.csv.zip\n",
        "!unzip /content/train.csv.zip"
      ],
      "execution_count": 5,
      "outputs": [
        {
          "output_type": "stream",
          "text": [
            "Archive:  /content/test.csv.zip\n",
            "  inflating: test.csv                \n",
            "Archive:  /content/train.csv.zip\n",
            "  inflating: train.csv               \n"
          ],
          "name": "stdout"
        }
      ]
    },
    {
      "cell_type": "code",
      "metadata": {
        "id": "ERLvfkMRK4xl",
        "colab_type": "code",
        "colab": {}
      },
      "source": [
        "!rm /content/test.csv.zip\n",
        "!rm /content/train.csv.zip"
      ],
      "execution_count": 6,
      "outputs": []
    },
    {
      "cell_type": "markdown",
      "metadata": {
        "id": "FWDI6RbsJR5X",
        "colab_type": "text"
      },
      "source": [
        "**loading and exploring dataset**"
      ]
    },
    {
      "cell_type": "code",
      "metadata": {
        "id": "sNOTIO6vJegA",
        "colab_type": "code",
        "colab": {}
      },
      "source": [
        "def load_data():\n",
        "  test = pd.read_csv(\"/content/test.csv\")\n",
        "  train = pd.read_csv(\"/content/train.csv\")\n",
        "\n",
        "  y = to_categorical(np.array(train['label']))\n",
        "  X = np.array(train.drop('label', axis=1)).reshape(-1, 28, 28,1)\n",
        "\n",
        "  X_train, X_val, y_train, y_val = train_test_split(X, y, test_size=0.25,shuffle = True)\n",
        "  X_test = np.array(test).reshape(-1, 28, 28,1)\n",
        "\n",
        "  return X_train, X_val, y_train, y_val, X_test"
      ],
      "execution_count": 7,
      "outputs": []
    },
    {
      "cell_type": "code",
      "metadata": {
        "id": "k7Rxo-YVLu5Y",
        "colab_type": "code",
        "colab": {}
      },
      "source": [
        "X_train, X_val, y_train, y_val, X_test = load_data()"
      ],
      "execution_count": 9,
      "outputs": []
    },
    {
      "cell_type": "code",
      "metadata": {
        "id": "XluzqDVWNKds",
        "colab_type": "code",
        "colab": {
          "base_uri": "https://localhost:8080/",
          "height": 52
        },
        "outputId": "24c2514b-ddca-40fc-d078-091776e35c1e"
      },
      "source": [
        "print(\"X_train shape: %s\" % (str(X_train.shape)))\n",
        "print(\"y_train shape: %s\" % (str(y_train.shape)))"
      ],
      "execution_count": 10,
      "outputs": [
        {
          "output_type": "stream",
          "text": [
            "X_train shape: (31500, 28, 28, 1)\n",
            "y_train shape: (31500, 10)\n"
          ],
          "name": "stdout"
        }
      ]
    },
    {
      "cell_type": "code",
      "metadata": {
        "id": "pMsSN3AdNSzb",
        "colab_type": "code",
        "colab": {
          "base_uri": "https://localhost:8080/",
          "height": 282
        },
        "outputId": "0d8bb5ac-a5e7-4dae-8269-5280a542db16"
      },
      "source": [
        "plt.imshow(X_train[10,:,:,0],cmap='gray')"
      ],
      "execution_count": 11,
      "outputs": [
        {
          "output_type": "execute_result",
          "data": {
            "text/plain": [
              "<matplotlib.image.AxesImage at 0x7f3b9a5c0908>"
            ]
          },
          "metadata": {
            "tags": []
          },
          "execution_count": 11
        },
        {
          "output_type": "display_data",
          "data": {
            "image/png": "[encoded data removed]",
            "text/plain": [
              "<Figure size 432x288 with 1 Axes>"
            ]
          },
          "metadata": {
            "tags": [],
            "needs_background": "light"
          }
        }
      ]
    },
    {
      "cell_type": "code",
      "metadata": {
        "id": "JggRuPHnNngE",
        "colab_type": "code",
        "colab": {
          "base_uri": "https://localhost:8080/",
          "height": 282
        },
        "outputId": "c58abb3a-5491-499f-8253-e790cc639668"
      },
      "source": [
        "plt.imshow(X_train[200,:,:,0],cmap='gray')"
      ],
      "execution_count": 12,
      "outputs": [
        {
          "output_type": "execute_result",
          "data": {
            "text/plain": [
              "<matplotlib.image.AxesImage at 0x7f3b9a420f98>"
            ]
          },
          "metadata": {
            "tags": []
          },
          "execution_count": 12
        },
        {
          "output_type": "display_data",
          "data": {
            "image/png": "[encoded data removed]",
            "text/plain": [
              "<Figure size 432x288 with 1 Axes>"
            ]
          },
          "metadata": {
            "tags": [],
            "needs_background": "light"
          }
        }
      ]
    },
    {
      "cell_type": "markdown",
      "metadata": {
        "id": "9W4G_p4IQG6U",
        "colab_type": "text"
      },
      "source": [
        "**Preparing Images**"
      ]
    },
    {
      "cell_type": "code",
      "metadata": {
        "id": "PY5jfniQQGBm",
        "colab_type": "code",
        "colab": {}
      },
      "source": [
        "mean_px = X_train.mean().astype(np.float32)\n",
        "std_px = X_train.std().astype(np.float32)\n",
        "\n",
        "gen = ImageDataGenerator(rotation_range=8, width_shift_range=0.08, shear_range=0.3,\n",
        "                               height_shift_range=0.08, zoom_range=0.08)\n",
        "\n",
        "batches = gen.flow(X_train, y_train, batch_size=64)\n",
        "val_batches = gen.flow(X_val, y_val, batch_size=64)"
      ],
      "execution_count": 13,
      "outputs": []
    },
    {
      "cell_type": "code",
      "metadata": {
        "id": "Uor9Li766A_g",
        "colab_type": "code",
        "colab": {}
      },
      "source": [
        "def standardize(x):\n",
        "    return (x-mean_px)/std_px"
      ],
      "execution_count": 14,
      "outputs": []
    },
    {
      "cell_type": "markdown",
      "metadata": {
        "id": "k-P-Ngsra3kJ",
        "colab_type": "text"
      },
      "source": [
        "\n",
        "**Define the model**"
      ]
    },
    {
      "cell_type": "code",
      "metadata": {
        "id": "szd5NT54a2fl",
        "colab_type": "code",
        "colab": {}
      },
      "source": [
        "model = Sequential()      \n",
        "model.add(L.Lambda(standardize,input_shape=(28,28,1)))       \n",
        "model.add(L.Conv2D(8, (5, 5), activation='relu'))\n",
        "model.add(L.BatchNormalization())           \n",
        "model.add(L.MaxPool2D(strides=2))\n",
        "model.add(L.Conv2D(16, (5, 5), activation='relu'))\n",
        "model.add(L.BatchNormalization())\n",
        "model.add(L.MaxPool2D(strides=2))\n",
        "model.add(L.Flatten())\n",
        "model.add(L.Dense(64, activation = 'relu'))\n",
        "model.add(L.Dense(128, activation = 'relu'))\n",
        "model.add(L.Dense(10,  activation='softmax'))"
      ],
      "execution_count": 41,
      "outputs": []
    },
    {
      "cell_type": "code",
      "metadata": {
        "id": "s4AWH_pfht_v",
        "colab_type": "code",
        "colab": {}
      },
      "source": [
        "model.compile(optimizer=optimizers.Adam(0.000015), loss=losses.CategoricalCrossentropy(),\n",
        "              metrics=['accuracy'])"
      ],
      "execution_count": 81,
      "outputs": []
    },
    {
      "cell_type": "code",
      "metadata": {
        "id": "x0vdWt543OD3",
        "colab_type": "code",
        "colab": {
          "base_uri": "https://localhost:8080/",
          "height": 538
        },
        "outputId": "e0b798a2-15e8-4199-cc2f-f22002488636"
      },
      "source": [
        "model.summary()"
      ],
      "execution_count": 43,
      "outputs": [
        {
          "output_type": "stream",
          "text": [
            "Model: \"sequential_3\"\n",
            "_________________________________________________________________\n",
            "Layer (type)                 Output Shape              Param #   \n",
            "=================================================================\n",
            "lambda_3 (Lambda)            (None, 28, 28, 1)         0         \n",
            "_________________________________________________________________\n",
            "conv2d_5 (Conv2D)            (None, 24, 24, 8)         208       \n",
            "_________________________________________________________________\n",
            "batch_normalization_6 (Batch (None, 24, 24, 8)         32        \n",
            "_________________________________________________________________\n",
            "max_pooling2d_5 (MaxPooling2 (None, 12, 12, 8)         0         \n",
            "_________________________________________________________________\n",
            "conv2d_6 (Conv2D)            (None, 8, 8, 16)          3216      \n",
            "_________________________________________________________________\n",
            "batch_normalization_7 (Batch (None, 8, 8, 16)          64        \n",
            "_________________________________________________________________\n",
            "max_pooling2d_6 (MaxPooling2 (None, 4, 4, 16)          0         \n",
            "_________________________________________________________________\n",
            "flatten_3 (Flatten)          (None, 256)               0         \n",
            "_________________________________________________________________\n",
            "dense_7 (Dense)              (None, 64)                16448     \n",
            "_________________________________________________________________\n",
            "dense_8 (Dense)              (None, 128)               8320      \n",
            "_________________________________________________________________\n",
            "dense_9 (Dense)              (None, 10)                1290      \n",
            "=================================================================\n",
            "Total params: 29,578\n",
            "Trainable params: 29,530\n",
            "Non-trainable params: 48\n",
            "_________________________________________________________________\n"
          ],
          "name": "stdout"
        }
      ]
    },
    {
      "cell_type": "markdown",
      "metadata": {
        "id": "CaGG7x0piAc2",
        "colab_type": "text"
      },
      "source": [
        "**Training**"
      ]
    },
    {
      "cell_type": "code",
      "metadata": {
        "id": "3EEWT2f5rFQm",
        "colab_type": "code",
        "colab": {}
      },
      "source": [
        "check_point = ModelCheckpoint('/content/drive/My Drive/Colab Notebooks/mnist/weights_6-{epoch:02d}')"
      ],
      "execution_count": 76,
      "outputs": []
    },
    {
      "cell_type": "code",
      "metadata": {
        "id": "jAQjuAWHCTLP",
        "colab_type": "code",
        "colab": {}
      },
      "source": [
        "loss = []\n",
        "val_loss = []\n",
        "acc = []\n",
        "val_acc = []"
      ],
      "execution_count": 48,
      "outputs": []
    },
    {
      "cell_type": "code",
      "metadata": {
        "id": "aeJMcGEgFkE8",
        "colab_type": "code",
        "colab": {}
      },
      "source": [
        "model.load_weights('/content/drive/My Drive/Colab Notebooks/mnist/weights_5-03')"
      ],
      "execution_count": 70,
      "outputs": []
    },
    {
      "cell_type": "code",
      "metadata": {
        "id": "yOccxBQ-h_eS",
        "colab_type": "code",
        "colab": {
          "base_uri": "https://localhost:8080/",
          "height": 121
        },
        "outputId": "600fa62b-5635-4b33-b4fc-a9d928f02d2e"
      },
      "source": [
        "history = model.fit(batches,epochs=3,validation_data=val_batches,callbacks=[check_point])"
      ],
      "execution_count": 85,
      "outputs": [
        {
          "output_type": "stream",
          "text": [
            "Epoch 1/3\n",
            "493/493 [==============================] - 13s 25ms/step - loss: 0.0264 - accuracy: 0.9921 - val_loss: 0.0731 - val_accuracy: 0.9889\n",
            "Epoch 2/3\n",
            "493/493 [==============================] - 12s 25ms/step - loss: 0.0261 - accuracy: 0.9914 - val_loss: 2.1538e-04 - val_accuracy: 0.9885\n",
            "Epoch 3/3\n",
            "493/493 [==============================] - 12s 25ms/step - loss: 0.0241 - accuracy: 0.9929 - val_loss: 1.6927e-05 - val_accuracy: 0.9900\n"
          ],
          "name": "stdout"
        }
      ]
    },
    {
      "cell_type": "code",
      "metadata": {
        "id": "R6eLXX1C_nkK",
        "colab_type": "code",
        "colab": {}
      },
      "source": [
        "loss += history.history['loss']\n",
        "val_loss += history.history['val_loss']\n",
        "\n",
        "acc += history.history['accuracy']\n",
        "val_acc += history.history['val_accuracy']"
      ],
      "execution_count": 86,
      "outputs": []
    },
    {
      "cell_type": "code",
      "metadata": {
        "id": "2Sv1eMLBwuJR",
        "colab_type": "code",
        "colab": {
          "base_uri": "https://localhost:8080/",
          "height": 296
        },
        "outputId": "a158d030-3316-46d8-d601-5522852701bf"
      },
      "source": [
        "plt.plot(acc)\n",
        "plt.plot(val_acc)\n",
        "plt.xlabel('epoch')\n",
        "plt.ylabel('accuracy')\n",
        "plt.legend(['train', 'val'], loc='upper left')"
      ],
      "execution_count": 87,
      "outputs": [
        {
          "output_type": "execute_result",
          "data": {
            "text/plain": [
              "<matplotlib.legend.Legend at 0x7f3b27d20f98>"
            ]
          },
          "metadata": {
            "tags": []
          },
          "execution_count": 87
        },
        {
          "output_type": "display_data",
          "data": {
            "image/png": "[encoded data removed]",
            "text/plain": [
              "<Figure size 432x288 with 1 Axes>"
            ]
          },
          "metadata": {
            "tags": [],
            "needs_background": "light"
          }
        }
      ]
    },
    {
      "cell_type": "code",
      "metadata": {
        "id": "IKEIgtypw65O",
        "colab_type": "code",
        "colab": {
          "base_uri": "https://localhost:8080/",
          "height": 296
        },
        "outputId": "30740138-8b76-45b1-f187-ad09ff198c45"
      },
      "source": [
        "plt.plot(loss)\n",
        "plt.plot(val_loss)\n",
        "plt.xlabel('epoch')\n",
        "plt.ylabel('loss')\n",
        "plt.legend(['train', 'val'], loc='upper left')"
      ],
      "execution_count": 88,
      "outputs": [
        {
          "output_type": "execute_result",
          "data": {
            "text/plain": [
              "<matplotlib.legend.Legend at 0x7f3b27d2cc88>"
            ]
          },
          "metadata": {
            "tags": []
          },
          "execution_count": 88
        },
        {
          "output_type": "display_data",
          "data": {
            "image/png": "[encoded data removed]",
            "text/plain": [
              "<Figure size 432x288 with 1 Axes>"
            ]
          },
          "metadata": {
            "tags": [],
            "needs_background": "light"
          }
        }
      ]
    },
    {
      "cell_type": "markdown",
      "metadata": {
        "id": "4MqdHTOBGmzx",
        "colab_type": "text"
      },
      "source": [
        "**submit the prediction**"
      ]
    },
    {
      "cell_type": "code",
      "metadata": {
        "id": "brNa3qD9GlsT",
        "colab_type": "code",
        "colab": {}
      },
      "source": [
        "predictions = model.predict_classes(X_test, verbose=0)\n",
        "submissions=pd.DataFrame({\"ImageId\": list(range(1,len(predictions)+1)),\n",
        "                         \"Label\": predictions})\n",
        "submissions.to_csv(\"submission.csv\", index=False, header=True)"
      ],
      "execution_count": 89,
      "outputs": []
    },
    {
      "cell_type": "code",
      "metadata": {
        "id": "ra-MNJ-IJHmA",
        "colab_type": "code",
        "colab": {
          "base_uri": "https://localhost:8080/",
          "height": 86
        },
        "outputId": "e25171cd-d054-44cb-f88d-238af05c4c6b"
      },
      "source": [
        "!kaggle competitions submit -c digit-recognizer -f submission.csv -m \"Message\""
      ],
      "execution_count": 91,
      "outputs": [
        {
          "output_type": "stream",
          "text": [
            "Warning: Your Kaggle API key is readable by other users on this system! To fix this, you can run 'chmod 600 /root/.kaggle/kaggle.json'\n",
            "Warning: Looks like you're using an outdated API Version, please consider updating (server 1.5.6 / client 1.5.4)\n",
            "100% 208k/208k [00:02<00:00, 74.2kB/s]\n",
            "Successfully submitted to Digit Recognizer"
          ],
          "name": "stdout"
        }
      ]
    }
  ]
}